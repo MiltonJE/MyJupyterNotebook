{
 "cells": [
  {
   "cell_type": "markdown",
   "id": "4b22641d-5b0a-45d0-afef-0ecb6c82909d",
   "metadata": {},
   "source": [
    "# Data Science Tools and Ecosystem"
   ]
  },
  {
   "cell_type": "markdown",
   "id": "77b9bbdc-b2a8-42f3-8f78-e4184529b38d",
   "metadata": {},
   "source": [
    "## In this notebook, Data Science Tools and Ecosystem are summarized."
   ]
  },
  {
   "cell_type": "markdown",
   "id": "28cd2a34-1fdd-4d3e-a3a7-ab8caed9e061",
   "metadata": {},
   "source": [
    "**Objectives:**\n",
    "+ List popular languages for Data Science.\n",
    "+ List the popular Data Science libraries used by Python and R.\n",
    "+ List popular development environment open-source tools used in Data Science."
   ]
  },
  {
   "cell_type": "markdown",
   "id": "351094cd-97c7-4244-a1a8-6c7ccf0ca980",
   "metadata": {},
   "source": [
    "### Some of the popular languages that Data Scientists use are:"
   ]
  },
  {
   "cell_type": "markdown",
   "id": "a50c3d04-b545-4700-890f-bebf53a2b3d0",
   "metadata": {},
   "source": [
    "1. Python\n",
    "2. R.\n",
    "3. Scala\n",
    "4. Julia"
   ]
  },
  {
   "cell_type": "markdown",
   "id": "2e806743-3c6e-4142-ae10-4ef52c6b37f1",
   "metadata": {},
   "source": [
    "### Some of the commonly used libraries used by Data Scientists include:"
   ]
  },
  {
   "cell_type": "markdown",
   "id": "8e537bfc-5648-43d5-8e53-01be6c24df69",
   "metadata": {},
   "source": [
    "1. TensowFlow\n",
    "2. NumPy\n",
    "3. Pandas\n",
    "4. SciPy\n",
    "5. Matplotlib"
   ]
  },
  {
   "cell_type": "markdown",
   "id": "3961cbac-00cc-45e1-b38a-6b78c248c072",
   "metadata": {},
   "source": [
    "| Data Science Tools||\n",
    "| ------------|------|\n",
    "| Jupyter Lab | \n",
    "| Rstudio |\n",
    "| Apache Zeppelin |"
   ]
  },
  {
   "cell_type": "markdown",
   "id": "c70b3d1f-761f-4443-a4a0-a8e59c6be059",
   "metadata": {},
   "source": [
    "### Below are a few examples of evaluating arithmetic expressions in Python"
   ]
  },
  {
   "cell_type": "code",
   "execution_count": 12,
   "id": "10652b53-6e60-4d95-a8f6-0e9889d09f20",
   "metadata": {},
   "outputs": [
    {
     "data": {
      "text/plain": [
       "17"
      ]
     },
     "execution_count": 12,
     "metadata": {},
     "output_type": "execute_result"
    }
   ],
   "source": [
    "# This a simple arithmetic expression to mutiply then add integers\n",
    "\n",
    "(3 * 4) + 5"
   ]
  },
  {
   "cell_type": "code",
   "execution_count": 14,
   "id": "0146082d-61c5-4e5d-8575-a2418cb3a920",
   "metadata": {},
   "outputs": [
    {
     "data": {
      "text/plain": [
       "3.3333333333333335"
      ]
     },
     "execution_count": 14,
     "metadata": {},
     "output_type": "execute_result"
    }
   ],
   "source": [
    "# This will convert 200 minutes to hours by dividing by 60\n",
    "\n",
    "200 / 60"
   ]
  },
  {
   "cell_type": "markdown",
   "id": "9ffe21a4-37d4-4617-9439-fcdd3ab76cec",
   "metadata": {},
   "source": [
    "## Author\n",
    "Milton Ramsamoedj"
   ]
  },
  {
   "cell_type": "code",
   "execution_count": null,
   "id": "42b7aeaa-6878-4e63-8e5f-7bc17e1d75e7",
   "metadata": {},
   "outputs": [],
   "source": []
  }
 ],
 "metadata": {
  "kernelspec": {
   "display_name": "Python 3 (ipykernel)",
   "language": "python",
   "name": "python3"
  },
  "language_info": {
   "codemirror_mode": {
    "name": "ipython",
    "version": 3
   },
   "file_extension": ".py",
   "mimetype": "text/x-python",
   "name": "python",
   "nbconvert_exporter": "python",
   "pygments_lexer": "ipython3",
   "version": "3.12.2"
  }
 },
 "nbformat": 4,
 "nbformat_minor": 5
}
